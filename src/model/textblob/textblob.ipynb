{
 "cells": [
  {
   "cell_type": "code",
   "execution_count": 12,
   "id": "2f2ae2e0",
   "metadata": {},
   "outputs": [
    {
     "name": "stdout",
     "output_type": "stream",
     "text": [
      "Note: you may need to restart the kernel to use updated packages.Requirement already satisfied: textblob in c:\\users\\winne\\appdata\\local\\programs\\python\\python311\\lib\\site-packages (0.19.0)\n",
      "Requirement already satisfied: nltk>=3.9 in c:\\users\\winne\\appdata\\local\\programs\\python\\python311\\lib\\site-packages (from textblob) (3.9.1)\n",
      "Requirement already satisfied: click in c:\\users\\winne\\appdata\\local\\programs\\python\\python311\\lib\\site-packages (from nltk>=3.9->textblob) (8.1.8)\n",
      "Requirement already satisfied: joblib in c:\\users\\winne\\appdata\\local\\programs\\python\\python311\\lib\\site-packages (from nltk>=3.9->textblob) (1.4.2)\n",
      "Requirement already satisfied: regex>=2021.8.3 in c:\\users\\winne\\appdata\\local\\programs\\python\\python311\\lib\\site-packages (from nltk>=3.9->textblob) (2025.7.34)\n",
      "Requirement already satisfied: tqdm in c:\\users\\winne\\appdata\\local\\programs\\python\\python311\\lib\\site-packages (from nltk>=3.9->textblob) (4.67.1)\n",
      "Requirement already satisfied: colorama in c:\\users\\winne\\appdata\\roaming\\python\\python311\\site-packages (from click->nltk>=3.9->textblob) (0.4.6)\n",
      "\n"
     ]
    },
    {
     "name": "stderr",
     "output_type": "stream",
     "text": [
      "\n",
      "[notice] A new release of pip available: 22.3.1 -> 25.2\n",
      "[notice] To update, run: python.exe -m pip install --upgrade pip\n"
     ]
    }
   ],
   "source": [
    "%pip install textblob\n"
   ]
  },
  {
   "cell_type": "code",
   "execution_count": 13,
   "id": "f8daf833",
   "metadata": {},
   "outputs": [],
   "source": [
    "# import libraries\n",
    "from textblob import TextBlob\n",
    "import pandas as pd\n",
    "import time\n",
    "from sklearn.metrics import (\n",
    "    classification_report,\n",
    "    confusion_matrix,\n",
    "    ConfusionMatrixDisplay,\n",
    "    accuracy_score\n",
    ")\n",
    "import matplotlib.pyplot as plt"
   ]
  },
  {
   "cell_type": "code",
   "execution_count": 14,
   "id": "09db4647",
   "metadata": {},
   "outputs": [
    {
     "name": "stdout",
     "output_type": "stream",
     "text": [
      "        id                                               text  \\\n",
      "0  gg5ic5k  Thank you for sharing I have too many looming ...   \n",
      "1  ghsx6oa  Alex Jones infowars.comSaid it will make you i...   \n",
      "2  gidm2by  My dizziness this second time around hasn't be...   \n",
      "3  gwe8ih0                       Yay!!! Thank you for sharing   \n",
      "4  gr3f1r6  Thank you for your words! I hope I can get bet...   \n",
      "\n",
      "               author                created_utc  No_of_comments  \\\n",
      "0        honeycombB82  2020-12-17 16:14:54+00:00             NaN   \n",
      "1        StandupGamer  2021-01-02 05:52:26+00:00             NaN   \n",
      "2              mjfx28  2021-01-07 02:13:41+00:00             NaN   \n",
      "3            Rachet83  2021-04-30 06:18:38+00:00             NaN   \n",
      "4  itsactuallynotokay  2021-03-16 05:35:11+00:00             NaN   \n",
      "\n",
      "   Subjectivity  Polarity  Analysis   Parent    Link  \n",
      "0      0.350000  0.237500  Positive   keq6mr  keq6mr  \n",
      "1      0.000000  0.000000   Neutral   kof5pv  kof5pv  \n",
      "2      0.411508 -0.252381  Negative  gidbbnj  krf93o  \n",
      "3      0.000000  0.000000   Neutral   n1m10p  n1m10p  \n",
      "4      0.250000  0.125000  Positive  gr3dph6  m61dmh  \n"
     ]
    }
   ],
   "source": [
    "df = pd.read_csv(\"../../../data/test_data.csv\")  # Load test dataset\n",
    "\n",
    "print(df.head())"
   ]
  },
  {
   "cell_type": "code",
   "execution_count": null,
   "id": "40cd2b60",
   "metadata": {},
   "outputs": [],
   "source": [
    "# Function to classify sentiment based on polarity score\n",
    "def classify_textblob_sentiment(text):\n",
    "    if not isinstance(text, str):\n",
    "        return 'Neutral'  # to handle NaN or non-string values\n",
    "    polarity = TextBlob(text).sentiment.polarity\n",
    "    if polarity > 0:\n",
    "        return 'Positive'\n",
    "    elif polarity < 0:\n",
    "        return 'Negative'\n",
    "    else:\n",
    "        return 'Neutral'\n"
   ]
  },
  {
   "cell_type": "code",
   "execution_count": 16,
   "id": "59242864",
   "metadata": {},
   "outputs": [
    {
     "name": "stdout",
     "output_type": "stream",
     "text": [
      "Inference time:  0.6558902263641357 seconds\n",
      "Inference time is saved\n"
     ]
    }
   ],
   "source": [
    "# Initialize time for recording inference time\n",
    "start = time.time()\n",
    "\n",
    "df['TextBlob_Sentiment'] = df['text'].apply(classify_textblob_sentiment) # Apply TextBlob sentiment analysis\n",
    "\n",
    "end = time.time()\n",
    "inference_time = end - start\n",
    "\n",
    "# Save computation time to CSV\n",
    "time_df = pd.DataFrame({\"TextBlob_InferenceTime (s)\": [inference_time]})\n",
    "time_df.to_csv(\"computation_time_textblob.csv\", index=False)\n",
    "\n",
    "print(\"Inference time: \", inference_time, \"seconds\")\n",
    "print(\"Inference time is saved\")"
   ]
  },
  {
   "cell_type": "markdown",
   "id": "25dc943b",
   "metadata": {},
   "source": [
    "Save result to CSV"
   ]
  },
  {
   "cell_type": "code",
   "execution_count": 17,
   "id": "9609a647",
   "metadata": {},
   "outputs": [
    {
     "name": "stdout",
     "output_type": "stream",
     "text": [
      "Sentiment analysis complete. Output saved to 'textblob_sentiment_output.csv'.\n",
      "Output length: 1938\n"
     ]
    }
   ],
   "source": [
    "# Select only desired columns\n",
    "result_df = df[[\"id\", \"text\", \"TextBlob_Sentiment\",]]\n",
    "\n",
    "\n",
    "# Save to CSV\n",
    "result_df.to_csv(\"textblob_sentiment_output.csv\", index=False)\n",
    "\n",
    "print(\"Sentiment analysis complete. Output saved to 'textblob_sentiment_output.csv'.\")\n",
    "\n",
    "print(\"Output length:\", len(result_df))"
   ]
  },
  {
   "cell_type": "markdown",
   "id": "4bf0dee9",
   "metadata": {},
   "source": [
    "Evaluation"
   ]
  },
  {
   "cell_type": "code",
   "execution_count": 18,
   "id": "682ce559",
   "metadata": {},
   "outputs": [],
   "source": [
    "# Load the results\n",
    "df_textblob = pd.read_csv(\"textblob_sentiment_output.csv\")\n",
    "\n",
    "y_true = df[\"Analysis\"] # True value\n",
    "y_pred = df_textblob[\"TextBlob_Sentiment\"] # Predicted value"
   ]
  },
  {
   "cell_type": "markdown",
   "id": "80bdac40",
   "metadata": {},
   "source": [
    "Classification Report"
   ]
  },
  {
   "cell_type": "code",
   "execution_count": 19,
   "id": "7c906542",
   "metadata": {},
   "outputs": [],
   "source": [
    "report = classification_report(y_true, y_pred, output_dict=True)\n",
    "report_df = pd.DataFrame(report).transpose()"
   ]
  },
  {
   "cell_type": "code",
   "execution_count": 20,
   "id": "13124be0",
   "metadata": {},
   "outputs": [
    {
     "data": {
      "image/png": "[encoded data removed]",
      "text/plain": [
       "<Figure size 1000x600 with 1 Axes>"
      ]
     },
     "metadata": {},
     "output_type": "display_data"
    }
   ],
   "source": [
    "# Plot per-class Precision, Recall, F1-score\n",
    "report_df.drop(['accuracy', 'macro avg', 'weighted avg'], inplace=True)\n",
    "report_df[['precision', 'recall', 'f1-score']].plot.bar(figsize=(10,6))\n",
    "report_df[['precision', 'recall', 'f1-score']].to_csv(\"classification_report_textblob.csv\") # Save classification report to CSV\n",
    "\n",
    "plt.title(\"Per-Class Precision, Recall, F1-score\")\n",
    "plt.ylabel(\"Score\")\n",
    "plt.xlabel(\"Sentiment Class\")\n",
    "plt.ylim(0, 1)\n",
    "plt.grid(True)\n",
    "plt.tight_layout()\n",
    "plt.savefig(\"classification_report_textblob.png\") # Save classification report plot\n",
    "plt.show()"
   ]
  },
  {
   "cell_type": "markdown",
   "id": "de2ab4a2",
   "metadata": {},
   "source": [
    "Confusion Matrix"
   ]
  },
  {
   "cell_type": "code",
   "execution_count": 21,
   "id": "2ab68e14",
   "metadata": {},
   "outputs": [
    {
     "data": {
      "image/png": "[encoded data removed]",
      "text/plain": [
       "<Figure size 640x480 with 2 Axes>"
      ]
     },
     "metadata": {},
     "output_type": "display_data"
    }
   ],
   "source": [
    "cm = confusion_matrix(y_true, y_pred, labels=report_df.index)\n",
    "disp = ConfusionMatrixDisplay(confusion_matrix=cm, display_labels=report_df.index)\n",
    "disp.plot(cmap=plt.cm.Blues)\n",
    "\n",
    "plt.title(\"Confusion Matrix\")\n",
    "plt.tight_layout()\n",
    "plt.savefig(\"confusion_matrix_textblob.png\") # Save confusion matrix plot\n",
    "plt.show()"
   ]
  },
  {
   "cell_type": "markdown",
   "id": "5550a6d4",
   "metadata": {},
   "source": [
    "Accuracy"
   ]
  },
  {
   "cell_type": "code",
   "execution_count": 22,
   "id": "d93d0200",
   "metadata": {},
   "outputs": [
    {
     "name": "stdout",
     "output_type": "stream",
     "text": [
      "Overall Accuracy: 1.0\n"
     ]
    }
   ],
   "source": [
    "acc = accuracy_score(y_true, y_pred)\n",
    "rounded_acc = round(acc, 4) # Round accuracy to 4 decimal places\n",
    "print(\"Overall Accuracy:\", rounded_acc)\n",
    "\n",
    "accuracy_df = pd.DataFrame([{\"Metric\": \"Overall Accuracy\", \"Score\": rounded_acc}])\n",
    "accuracy_df.to_csv(\"overall_accuracy_textblob.csv\", index=False) # Save overall accuracy to CSV\n"
   ]
  }
 ],
 "metadata": {
  "kernelspec": {
   "display_name": "Python 3",
   "language": "python",
   "name": "python3"
  },
  "language_info": {
   "codemirror_mode": {
    "name": "ipython",
    "version": 3
   },
   "file_extension": ".py",
   "mimetype": "text/x-python",
   "name": "python",
   "nbconvert_exporter": "python",
   "pygments_lexer": "ipython3",
   "version": "3.11.4"
  }
 },
 "nbformat": 4,
 "nbformat_minor": 5
}
