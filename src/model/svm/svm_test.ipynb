{
 "cells": [
  {
   "cell_type": "code",
   "execution_count": null,
   "id": "5e741048",
   "metadata": {},
   "outputs": [],
   "source": [
    "import pandas as pd\n",
    "import joblib\n",
    "from sklearn.metrics import accuracy_score, confusion_matrix, classification_report\n",
    "from matplotlib import pyplot as plt\n",
    "import seaborn as sns\n",
    "import time"
   ]
  },
  {
   "cell_type": "code",
   "execution_count": null,
   "id": "e2caedaa",
   "metadata": {},
   "outputs": [],
   "source": [
    "# Load the trained randomForest pipeline\n",
    "svmModel = joblib.load('svm.joblib')\n",
    "\n",
    "# Load test dataset\n",
    "test_df = pd.read_csv(\"../../../data/test_data.csv\")\n",
    "\n",
    "# Predict using raw text\n",
    "X_test = test_df[\"text\"].astype(str)\n",
    "y_true = test_df[\"Analysis\"]\n",
    "\n",
    "# Initialize time for recording inference time\n",
    "start = time.time()\n",
    "\n",
    "# Predict\n",
    "y_pred = svmModel.predict(X_test)\n",
    "\n",
    "end = time.time()\n",
    "inference_time = end - start\n",
    "\n",
    "# Save inference time to CSV\n",
    "df = pd.read_csv(\"computation_time_svm.csv\") \n",
    "\n",
    "df[\"svm_InferenceTime (s)\"] = inference_time\n",
    "\n",
    "df.to_csv(\"computation_time_svm.csv\", index=False)\n",
    "\n",
    "print(\"Inference time: \", inference_time, \"seconds\")\n",
    "print(\"Inference time is saved\")"
   ]
  },
  {
   "cell_type": "code",
   "execution_count": null,
   "id": "55e9447d",
   "metadata": {},
   "outputs": [],
   "source": [
    "# Calculate accuracy\n",
    "acc = accuracy_score(y_true, y_pred)\n",
    "rounded_acc = round(acc, 4) # Round accuracy to 4 decimal places\n",
    "print(\"Overall Accuracy:\", rounded_acc)\n",
    "\n",
    "accuracy_df = pd.DataFrame([{\"Metric\": \"Overall Accuracy\", \"Score\": rounded_acc}])\n",
    "accuracy_df.to_csv(\"overall_accuracy_svm.csv\", index=False) # Save overall accuracy to CSV"
   ]
  },
  {
   "cell_type": "code",
   "execution_count": null,
   "id": "4bbe0623",
   "metadata": {},
   "outputs": [],
   "source": [
    "# Plot confusion matrix\n",
    "cm = confusion_matrix(y_true, y_pred, labels=svmModel.classes_)\n",
    "\n",
    "disp = ConfusionMatrixDisplay(confusion_matrix=cm, display_labels=svmModel.classes_)\n",
    "disp.plot(cmap=plt.cm.Blues, xticks_rotation=45)\n",
    "plt.title(\"Confusion Matrix\")\n",
    "plt.savefig(\"confusion_matrix_svm.png\")\n",
    "plt.show()"
   ]
  },
  {
   "cell_type": "code",
   "execution_count": null,
   "id": "d6135cb0",
   "metadata": {},
   "outputs": [],
   "source": [
    "# Generate classification report\n",
    "report_dict = classification_report(y_true, y_pred, output_dict=True)\n",
    "report_df = pd.DataFrame(report_dict).transpose()\n",
    "\n",
    "# Store to csv\n",
    "report_df.drop(['accuracy', 'macro avg', 'weighted avg'], inplace=True)\n",
    "report_df[['precision', 'recall', 'f1-score']].to_csv(\"classification_report_svm.csv\") # Save classification report to CSV\n",
    "\n",
    "# Plot precision, recall, f1-score per class\n",
    "report_df[['precision', 'recall', 'f1-score']].plot.bar(figsize=(10,6))\n",
    "plt.title(\"Classification Metrics by Class\")\n",
    "plt.ylabel(\"Score\")\n",
    "plt.ylim(0, 1.05)\n",
    "plt.grid(axis='y')\n",
    "plt.xticks(rotation=45)\n",
    "plt.tight_layout()\n",
    "plt.savefig(\"classification_report_svm.png\")\n",
    "plt.show()\n",
    "\n"
   ]
  }
 ],
 "metadata": {
  "kernelspec": {
   "display_name": "Python 3",
   "language": "python",
   "name": "python3"
  },
  "language_info": {
   "codemirror_mode": {
    "name": "ipython",
    "version": 3
   },
   "file_extension": ".py",
   "mimetype": "text/x-python",
   "name": "python",
   "nbconvert_exporter": "python",
   "pygments_lexer": "ipython3",
   "version": "3.11.4"
  }
 },
 "nbformat": 4,
 "nbformat_minor": 5
}
