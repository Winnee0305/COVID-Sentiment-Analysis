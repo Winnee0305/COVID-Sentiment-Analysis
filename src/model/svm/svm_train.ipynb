{
 "cells": [
  {
   "cell_type": "code",
   "execution_count": null,
   "id": "ee6c3e73",
   "metadata": {},
   "outputs": [],
   "source": [
    "%pip install scikit-learn"
   ]
  },
  {
   "cell_type": "code",
   "execution_count": null,
   "id": "8e73f3ba",
   "metadata": {},
   "outputs": [],
   "source": [
    "# Import necessary libraries\n",
    "import pandas as pd\n",
    "from sklearn.feature_extraction.text import TfidfVectorizer\n",
    "from sklearn.svm import SVC \n",
    "from sklearn.pipeline import Pipeline\n",
    "import time"
   ]
  },
  {
   "cell_type": "code",
   "execution_count": null,
   "id": "19f53cc5",
   "metadata": {},
   "outputs": [],
   "source": [
    "# Load train dataset\n",
    "df = pd.read_csv('../../../data/train_data.csv')\n"
   ]
  },
  {
   "cell_type": "code",
   "execution_count": null,
   "id": "f1c1e287",
   "metadata": {},
   "outputs": [],
   "source": [
    "# Build the SVM pipeline\n",
    "svm_pipeline = Pipeline([ # TF-IDF vectorization\n",
    "    ('tfidf', TfidfVectorizer(ngram_range=(1,3), # Use unigrams, bigrams, and trigrams\n",
    "                              min_df=2,          # Minimum document frequency\n",
    "                              stop_words='english', # Remove English stop words\n",
    "                              sublinear_tf=True # Apply sublinear term frequency scaling\n",
    "                              )), \n",
    "    ('svm', SVC(kernel='linear', # Use linear kernel\n",
    "                C=1.0, # Regularization parameter\n",
    "                probability=True, # Enable probability estimates\n",
    "                random_state=42 # Random seed\n",
    "                ))  # Support Vector Machine classifier\n",
    "])\n",
    "\n"
   ]
  },
  {
   "cell_type": "code",
   "execution_count": null,
   "id": "a142d4eb",
   "metadata": {},
   "outputs": [],
   "source": [
    "# Initialize time for recording inference time\n",
    "start = time.time()\n",
    "\n",
    "# train on train_data\n",
    "svm_pipeline.fit(df[\"text\"].astype(str), # convert to string\n",
    "                 df[\"Analysis\"])\n",
    "print(\"Pipeline training complete.\")\n",
    "\n",
    "end = time.time()\n",
    "training_time = end - start\n",
    "\n",
    "# Save computation time to CSV\n",
    "time_df = pd.DataFrame({\"svm_TrainingTime (s)\": [training_time]})\n",
    "time_df.to_csv(\"computation_time_svm.csv\", index=False)\n",
    "\n",
    "print(\"Training time: \", training_time, \"seconds\")\n",
    "print(\"Training time is saved\")"
   ]
  },
  {
   "cell_type": "code",
   "execution_count": null,
   "id": "592efc26",
   "metadata": {},
   "outputs": [],
   "source": [
    "from sklearn.metrics import classification_report, accuracy_score\n",
    "\n",
    "# Load validation dataset\n",
    "val_df = pd.read_csv('../../../data/val_data.csv')\n",
    "val_text = val_df[\"text\"].astype(str)  # convert to string\n",
    "val_labels = val_df[\"Analysis\"]\n",
    "val_preds = svm_pipeline.predict(val_text)\n",
    "\n",
    "print(\"Validation Accuracy:\", accuracy_score(val_labels, val_preds))\n",
    "print(classification_report(val_labels, val_preds))\n"
   ]
  },
  {
   "cell_type": "code",
   "execution_count": null,
   "id": "af192656",
   "metadata": {},
   "outputs": [],
   "source": [
    "# Save the trained model\n",
    "import joblib\n",
    "joblib.dump(svm_pipeline, 'svm.joblib')"
   ]
  }
 ],
 "metadata": {
  "kernelspec": {
   "display_name": "Python 3",
   "language": "python",
   "name": "python3"
  },
  "language_info": {
   "codemirror_mode": {
    "name": "ipython",
    "version": 3
   },
   "file_extension": ".py",
   "mimetype": "text/x-python",
   "name": "python",
   "nbconvert_exporter": "python",
   "pygments_lexer": "ipython3",
   "version": "3.11.4"
  }
 },
 "nbformat": 4,
 "nbformat_minor": 5
}
