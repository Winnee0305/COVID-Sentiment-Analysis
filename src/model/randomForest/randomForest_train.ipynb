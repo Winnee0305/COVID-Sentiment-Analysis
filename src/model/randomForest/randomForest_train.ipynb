{
 "cells": [
  {
   "cell_type": "code",
   "execution_count": 15,
   "id": "ff7ebe13",
   "metadata": {},
   "outputs": [],
   "source": [
    "import pandas as pd\n",
    "from sklearn.feature_extraction.text import TfidfVectorizer\n",
    "from sklearn.ensemble import RandomForestClassifier\n",
    "from sklearn.metrics import accuracy_score, confusion_matrix, classification_report\n",
    "import joblib\n",
    "from sklearn.pipeline import Pipeline"
   ]
  },
  {
   "cell_type": "code",
   "execution_count": 16,
   "id": "39ea9262",
   "metadata": {},
   "outputs": [
    {
     "name": "stdout",
     "output_type": "stream",
     "text": [
      "Train data loaded. Number of samples: 9040\n",
      "        id                                               text          author  \\\n",
      "0   lx3h26  Pain &amp; Swelling (AZ Vaccine UK) I got my f...  pupperinofloof   \n",
      "1  gsirubm  Just buy a website name and get some servers. ...     SpudofIdaho   \n",
      "2  gi1ps3m                                     Absolutely not  Yeshua-is-king   \n",
      "3  gssttr1  Usually cvs will ask for your insurance card d...      Samandlife   \n",
      "4  go0voob              Maybe. It was fairly mild either way.      twostep123   \n",
      "\n",
      "                 created_utc  No_of_comments  Subjectivity  Polarity  \\\n",
      "0  2021-03-03 20:26:10+00:00             4.0      0.410000  0.075000   \n",
      "1  2021-03-27 22:56:15+00:00             NaN      0.700000  0.800000   \n",
      "2  2021-01-04 07:23:20+00:00             NaN      0.900000 -0.100000   \n",
      "3  2021-03-30 13:54:50+00:00             NaN      0.236111  0.000000   \n",
      "4  2021-02-19 17:02:00+00:00             NaN      0.500000  0.333333   \n",
      "\n",
      "   Analysis   Parent    Link  \n",
      "0  Positive        1  lx3h26  \n",
      "1  Positive  gsi69ug  mel8ht  \n",
      "2  Negative  gi1707w  kpkvuy  \n",
      "3   Neutral   mgg4o2  mgg4o2  \n",
      "4  Positive  go0l4tw  ln59w8  \n"
     ]
    }
   ],
   "source": [
    "# Load train data\n",
    "df = pd.read_csv(\"../../../data/train_data.csv\")\n",
    "\n",
    "print(\"Train data loaded. Number of samples:\", len(df))\n",
    "print(df.head())"
   ]
  },
  {
   "cell_type": "code",
   "execution_count": 17,
   "id": "045a6031",
   "metadata": {},
   "outputs": [],
   "source": [
    "pipeline = Pipeline([\n",
    "    ('tfidf', TfidfVectorizer()),  # Step 1: TF-IDF vectorization\n",
    "    ('clf', RandomForestClassifier(n_estimators=100, random_state=42))  # Step 2: Classifier\n",
    "])"
   ]
  },
  {
   "cell_type": "code",
   "execution_count": 18,
   "id": "35cdaff5",
   "metadata": {},
   "outputs": [
    {
     "name": "stdout",
     "output_type": "stream",
     "text": [
      "Pipeline training complete.\n"
     ]
    }
   ],
   "source": [
    "# Train the pipeline on text and labels\n",
    "pipeline.fit(df[\"text\"].astype(str), df[\"Analysis\"])\n",
    "\n",
    "print(\"Pipeline training complete.\")"
   ]
  },
  {
   "cell_type": "code",
   "execution_count": 19,
   "id": "dfa6acea",
   "metadata": {},
   "outputs": [
    {
     "name": "stdout",
     "output_type": "stream",
     "text": [
      "✅ Model saved as randomForest.joblib\n"
     ]
    }
   ],
   "source": [
    "joblib.dump(pipeline, 'randomForest.joblib')\n",
    "print(\"✅ Model saved as randomForest.joblib\")\n"
   ]
  }
 ],
 "metadata": {
  "kernelspec": {
   "display_name": "base",
   "language": "python",
   "name": "python3"
  },
  "language_info": {
   "codemirror_mode": {
    "name": "ipython",
    "version": 3
   },
   "file_extension": ".py",
   "mimetype": "text/x-python",
   "name": "python",
   "nbconvert_exporter": "python",
   "pygments_lexer": "ipython3",
   "version": "3.11.7"
  }
 },
 "nbformat": 4,
 "nbformat_minor": 5
}
