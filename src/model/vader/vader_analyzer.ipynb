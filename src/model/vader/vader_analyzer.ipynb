{
 "cells": [
  {
   "cell_type": "code",
   "execution_count": 8,
   "id": "b14fea4d",
   "metadata": {},
   "outputs": [
    {
     "name": "stdout",
     "output_type": "stream",
     "text": [
      "Requirement already satisfied: vaderSentiment in /opt/anaconda3/lib/python3.11/site-packages (3.3.2)\n",
      "Requirement already satisfied: requests in /opt/anaconda3/lib/python3.11/site-packages (from vaderSentiment) (2.31.0)\n",
      "Requirement already satisfied: charset-normalizer<4,>=2 in /opt/anaconda3/lib/python3.11/site-packages (from requests->vaderSentiment) (2.0.4)\n",
      "Requirement already satisfied: idna<4,>=2.5 in /opt/anaconda3/lib/python3.11/site-packages (from requests->vaderSentiment) (3.4)\n",
      "Requirement already satisfied: urllib3<3,>=1.21.1 in /opt/anaconda3/lib/python3.11/site-packages (from requests->vaderSentiment) (2.0.7)\n",
      "Requirement already satisfied: certifi>=2017.4.17 in /opt/anaconda3/lib/python3.11/site-packages (from requests->vaderSentiment) (2024.12.14)\n"
     ]
    }
   ],
   "source": [
    "!pip install vaderSentiment"
   ]
  },
  {
   "cell_type": "code",
   "execution_count": 9,
   "id": "32d7471b",
   "metadata": {},
   "outputs": [],
   "source": [
    "from vaderSentiment.vaderSentiment import SentimentIntensityAnalyzer\n",
    "import pandas as pd"
   ]
  },
  {
   "cell_type": "markdown",
   "id": "11af11f7",
   "metadata": {},
   "source": [
    "Load CSV into DataFrame"
   ]
  },
  {
   "cell_type": "code",
   "execution_count": 20,
   "id": "eeb54e9d",
   "metadata": {},
   "outputs": [
    {
     "name": "stdout",
     "output_type": "stream",
     "text": [
      "        id                                               text  \\\n",
      "0  gg5ic5k  Thank you for sharing I have too many looming ...   \n",
      "1  ghsx6oa  Alex Jones infowars.comSaid it will make you i...   \n",
      "2  gidm2by  My dizziness this second time around hasn't be...   \n",
      "3  gwe8ih0                       Yay!!! Thank you for sharing   \n",
      "4  gr3f1r6  Thank you for your words! I hope I can get bet...   \n",
      "\n",
      "               author                created_utc  No_of_comments  \\\n",
      "0        honeycombB82  2020-12-17 16:14:54+00:00             NaN   \n",
      "1        StandupGamer  2021-01-02 05:52:26+00:00             NaN   \n",
      "2              mjfx28  2021-01-07 02:13:41+00:00             NaN   \n",
      "3            Rachet83  2021-04-30 06:18:38+00:00             NaN   \n",
      "4  itsactuallynotokay  2021-03-16 05:35:11+00:00             NaN   \n",
      "\n",
      "   Subjectivity  Polarity  Analysis   Parent    Link  \n",
      "0      0.350000  0.237500  Positive   keq6mr  keq6mr  \n",
      "1      0.000000  0.000000   Neutral   kof5pv  kof5pv  \n",
      "2      0.411508 -0.252381  Negative  gidbbnj  krf93o  \n",
      "3      0.000000  0.000000   Neutral   n1m10p  n1m10p  \n",
      "4      0.250000  0.125000  Positive  gr3dph6  m61dmh  \n"
     ]
    }
   ],
   "source": [
    "df = pd.read_csv(\"../../../data/test_data.csv\")  \n",
    "\n",
    "print(df.head())\n"
   ]
  },
  {
   "cell_type": "code",
   "execution_count": 21,
   "id": "e139c906",
   "metadata": {},
   "outputs": [],
   "source": [
    "# Initialize VADER\n",
    "analyzer = SentimentIntensityAnalyzer()"
   ]
  },
  {
   "cell_type": "markdown",
   "id": "92535575",
   "metadata": {},
   "source": [
    "Function to classify sentiment (Adjust the threshold accordingly)"
   ]
  },
  {
   "cell_type": "code",
   "execution_count": 22,
   "id": "d04e4550",
   "metadata": {},
   "outputs": [],
   "source": [
    "def classify_sentiment(text):\n",
    "    score = analyzer.polarity_scores(str(text))  # Ensure it's a string\n",
    "    compound = score['compound']\n",
    "    if compound >= 0.05:\n",
    "        return \"Positive\"\n",
    "    elif compound <= -0.05:\n",
    "        return \"Negative\"\n",
    "    else:\n",
    "        return \"Neutral\""
   ]
  },
  {
   "cell_type": "markdown",
   "id": "8dcd73e8",
   "metadata": {},
   "source": [
    "Apply sentiment classification on the text column"
   ]
  },
  {
   "cell_type": "code",
   "execution_count": 23,
   "id": "c22fdd97",
   "metadata": {},
   "outputs": [],
   "source": [
    "df[\"VADER_Sentiment\"] = df[\"text\"].apply(classify_sentiment)"
   ]
  },
  {
   "cell_type": "markdown",
   "id": "30ee419d",
   "metadata": {},
   "source": [
    "Save results into CSV"
   ]
  },
  {
   "cell_type": "code",
   "execution_count": 25,
   "id": "57d6136c",
   "metadata": {},
   "outputs": [
    {
     "name": "stdout",
     "output_type": "stream",
     "text": [
      "✅ Sentiment analysis complete. Output saved to 'vader_sentiment_output.csv'.\n",
      "Output length: 1938\n"
     ]
    }
   ],
   "source": [
    "# Select only desired columns\n",
    "result_df = df[[\"id\", \"text\", \"VADER_Sentiment\"]]\n",
    "\n",
    "# Save to CSV\n",
    "result_df.to_csv(\"vader_sentiment_output.csv\", index=False)\n",
    "\n",
    "print(\"✅ Sentiment analysis complete. Output saved to 'vader_sentiment_output.csv'.\")\n",
    "\n",
    "print(\"Output length:\", len(result_df))"
   ]
  }
 ],
 "metadata": {
  "kernelspec": {
   "display_name": "base",
   "language": "python",
   "name": "python3"
  },
  "language_info": {
   "codemirror_mode": {
    "name": "ipython",
    "version": 3
   },
   "file_extension": ".py",
   "mimetype": "text/x-python",
   "name": "python",
   "nbconvert_exporter": "python",
   "pygments_lexer": "ipython3",
   "version": "3.11.7"
  }
 },
 "nbformat": 4,
 "nbformat_minor": 5
}
