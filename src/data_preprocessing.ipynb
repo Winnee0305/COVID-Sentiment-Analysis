{
 "cells": [
  {
   "cell_type": "markdown",
   "id": "3a186fd8",
   "metadata": {},
   "source": [
    "Split dataset into train, test and val"
   ]
  },
  {
   "cell_type": "code",
   "execution_count": 2,
   "id": "d28967fc",
   "metadata": {},
   "outputs": [],
   "source": [
    "import pandas as pd\n",
    "from sklearn.model_selection import train_test_split\n",
    "from pathlib import Path"
   ]
  },
  {
   "cell_type": "code",
   "execution_count": 3,
   "id": "de4fed77",
   "metadata": {},
   "outputs": [],
   "source": [
    "'''Configuration'''\n",
    "BASE = Path(\"../data\")\n",
    "\n",
    "DATASET_NAME = \"Covid_without_dup.csv\"\n",
    "DATASET_PATH = BASE / DATASET_NAME\n",
    "\n",
    "train_data_path = BASE / \"train_data.csv\"\n",
    "val_data_path = BASE / \"val_data.csv\"\n",
    "test_data_path = BASE / \"test_data.csv\"\n"
   ]
  },
  {
   "cell_type": "code",
   "execution_count": 11,
   "id": "0d11951a",
   "metadata": {},
   "outputs": [],
   "source": [
    "# Load the dataset\n",
    "df = pd.read_csv(DATASET_PATH)"
   ]
  },
  {
   "cell_type": "code",
   "execution_count": 12,
   "id": "14df543f",
   "metadata": {},
   "outputs": [],
   "source": [
    "# Split into train/val/test (70/15/15)\n",
    "train_df, temp_df = train_test_split(df, test_size=0.30, random_state=42)\n",
    "val_df, test_df = train_test_split(temp_df, test_size=0.50, random_state=42)"
   ]
  },
  {
   "cell_type": "code",
   "execution_count": 13,
   "id": "2dc286d0",
   "metadata": {},
   "outputs": [
    {
     "name": "stdout",
     "output_type": "stream",
     "text": [
      "✅ Saved train, val, and test splits.\n"
     ]
    }
   ],
   "source": [
    "# Save the splits to CSV files\n",
    "train_df.to_csv(train_data_path, index=False)\n",
    "val_df.to_csv(val_data_path, index=False)\n",
    "test_df.to_csv(test_data_path, index=False)\n",
    "\n",
    "print(\"✅ Saved train, val, and test splits.\")"
   ]
  },
  {
   "cell_type": "code",
   "execution_count": 14,
   "id": "517bc262",
   "metadata": {},
   "outputs": [
    {
     "name": "stdout",
     "output_type": "stream",
     "text": [
      "Train data: 9040\n",
      "Validation data: 1937\n",
      "Test data: 1938\n"
     ]
    }
   ],
   "source": [
    "# Check the number of data in each split\n",
    "print(f\"Train data: {len(train_df)}\")\n",
    "print(f\"Validation data: {len(val_df)}\")\n",
    "print(f\"Test data: {len(test_df)}\")"
   ]
  }
 ],
 "metadata": {
  "kernelspec": {
   "display_name": "base",
   "language": "python",
   "name": "python3"
  },
  "language_info": {
   "codemirror_mode": {
    "name": "ipython",
    "version": 3
   },
   "file_extension": ".py",
   "mimetype": "text/x-python",
   "name": "python",
   "nbconvert_exporter": "python",
   "pygments_lexer": "ipython3",
   "version": "3.11.7"
  }
 },
 "nbformat": 4,
 "nbformat_minor": 5
}
